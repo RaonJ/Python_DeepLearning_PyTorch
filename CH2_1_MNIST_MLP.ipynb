{
 "cells": [
  {
   "cell_type": "code",
   "execution_count": 1,
   "id": "15747419",
   "metadata": {},
   "outputs": [],
   "source": [
    "# MLP모델의 설계 순서\n",
    "# 1. 모듈 Import하기\n",
    "# 2. 딥러닝 모델을 설계할 떄 활용하는 장비 확인하기\n",
    "# 3. MNIST 데이터 다운로드하기(Train Set, Test Set 분리하기)\n",
    "# 4. 데이터 확인하기 (1)\n",
    "# 5. 데이터 확인하기 (2)\n",
    "# 6. MLP(Multi Layer Perceptron) 모델 설계하기\n",
    "# 7. Optimizer, Objective Function 설정하기\n",
    "# 8. MLP 모델 학습을 진행하면서 학습 데이터에 대한 모델 성능을 확인하는 함수 정의하기\n",
    "# 9. 학습되는 과정 속에서 검증 데이터에 대한 모델의 성능을 확인하는 함수 정의하기\n",
    "# 10. MLP 학습을 실행하면서 Train, Test Set의 Loss 및 Test Set Accuracy 확인하기"
   ]
  },
  {
   "cell_type": "code",
   "execution_count": 2,
   "id": "21585066",
   "metadata": {},
   "outputs": [],
   "source": [
    "'''1. 모듈 Import 하기'''\n",
    "import numpy as np\n",
    "import matplotlib.pyplot as plt\n",
    "import torch\n",
    "import torch.nn as nn\n",
    "import torch.nn.functional as F\n",
    "from torchvision import transforms, datasets"
   ]
  },
  {
   "cell_type": "code",
   "execution_count": 3,
   "id": "c9a853c3",
   "metadata": {},
   "outputs": [
    {
     "name": "stdout",
     "output_type": "stream",
     "text": [
      "Using PyTorch version 1.10.1  Device: cpu\n"
     ]
    }
   ],
   "source": [
    "'''2. 딥러닝 모델을 설계할 때 활용하는 장비 확인하기'''\n",
    "if torch.cuda.is_available():\n",
    "    DEVICE = torch.device('cuda')\n",
    "else:\n",
    "    DEVICE = torch.device('cpu')\n",
    "    \n",
    "print('Using PyTorch version', torch.__version__, ' Device:', DEVICE)"
   ]
  },
  {
   "cell_type": "code",
   "execution_count": 4,
   "id": "82b148db",
   "metadata": {},
   "outputs": [],
   "source": [
    "BATCH_SIZE = 32\n",
    "EPOCHS = 10"
   ]
  },
  {
   "cell_type": "code",
   "execution_count": 5,
   "id": "f27248f7",
   "metadata": {},
   "outputs": [],
   "source": [
    "'''3. MNIST 데이터 다운로드(Train set, Test set 분리하기)'''''\n",
    "train_dataset = datasets.MNIST(root = \"../data/MNIST\",\n",
    "                                train = True,\n",
    "                                download = True,\n",
    "                                transform = transforms.ToTensor())\n",
    "test_dataset = datasets.MNIST(root = \"../data/MNIST\",\n",
    "                                train = False,\n",
    "                                transform = transforms.ToTensor())\n",
    "train_loader = torch.utils.data.DataLoader(dataset = train_dataset,\n",
    "                                            batch_size = BATCH_SIZE,\n",
    "                                            shuffle = True)\n",
    "test_loader = torch.utils.data.DataLoader(dataset = test_dataset,\n",
    "                                            batch_size = BATCH_SIZE,\n",
    "                                            shuffle = False)"
   ]
  },
  {
   "cell_type": "code",
   "execution_count": 6,
   "id": "f560cd54",
   "metadata": {},
   "outputs": [
    {
     "name": "stdout",
     "output_type": "stream",
     "text": [
      "X_train: torch.Size([32, 1, 28, 28]) type torch.FloatTensor\n",
      "y_train torch.Size([32]) type: torch.LongTensor\n"
     ]
    }
   ],
   "source": [
    "'''4. 데이터 확인하기 (1)'''\n",
    "for (X_train, y_train) in train_loader:\n",
    "    print('X_train:', X_train.size(), 'type', X_train.type())\n",
    "    print('y_train', y_train.size(), 'type:', y_train.type())\n",
    "    break"
   ]
  },
  {
   "cell_type": "code",
   "execution_count": 7,
   "id": "1519e264",
   "metadata": {},
   "outputs": [
    {
     "data": {
      "image/png": "[encoded data removed]",
      "text/plain": [
       "<Figure size 720x72 with 10 Axes>"
      ]
     },
     "metadata": {
      "needs_background": "light"
     },
     "output_type": "display_data"
    }
   ],
   "source": [
    "'''5. 데이터 확인하기 (2)'''\n",
    "pltsize = 1\n",
    "plt.figure(figsize=(10*pltsize, pltsize))\n",
    "for i in range(10):\n",
    "    plt.subplot(1,10,i+1)\n",
    "    plt.axis('off')\n",
    "    plt.imshow(X_train[i,:,:,:].numpy().reshape(28,28),cmap=\"gray_r\")\n",
    "    plt.title('Class: ' + str(y_train[i].item()))"
   ]
  },
  {
   "cell_type": "code",
   "execution_count": 8,
   "id": "2e2da4b9",
   "metadata": {},
   "outputs": [],
   "source": [
    "'''6. MLP(Multi Layer Perceptron) 모델 설계하기'''\n",
    "class Net(nn.Module):\n",
    "    def __init__(self):\n",
    "        super(Net, self).__init__()\n",
    "        self.fc1 = nn.Linear(28*28, 512)\n",
    "        self.fc2 = nn.Linear(512,256)\n",
    "        self.fc3 = nn.Linear(256,10)\n",
    "    def forward(self, x):\n",
    "        x = x.view(-1, 28*28)\n",
    "        x = self.fc1(x)\n",
    "        x = F.sigmoid(x)\n",
    "        x = self.fc2(x)\n",
    "        x = F.sigmoid(x)\n",
    "        x = self.fc3(x)\n",
    "        x = F.log_softmax(x,dim =1)\n",
    "        return x"
   ]
  },
  {
   "cell_type": "code",
   "execution_count": 9,
   "id": "dcdebd51",
   "metadata": {},
   "outputs": [
    {
     "name": "stdout",
     "output_type": "stream",
     "text": [
      "Net(\n",
      "  (fc1): Linear(in_features=784, out_features=512, bias=True)\n",
      "  (fc2): Linear(in_features=512, out_features=256, bias=True)\n",
      "  (fc3): Linear(in_features=256, out_features=10, bias=True)\n",
      ")\n"
     ]
    }
   ],
   "source": [
    "'''7. Optimizer, Objective Function 설정하기'''\n",
    "model = Net().to(DEVICE)\n",
    "optimizer = torch.optim.SGD(model.parameters(), lr = 0.01, momentum = 0.5)\n",
    "criterion = nn.CrossEntropyLoss()\n",
    "\n",
    "print(model)"
   ]
  },
  {
   "cell_type": "code",
   "execution_count": 10,
   "id": "2bb9a102",
   "metadata": {},
   "outputs": [],
   "source": [
    "'''8. MLP 모델 학습을 진행하며 학습 데이터에 대한 모델 성능을 확인하는 함수 정의'''\n",
    "def train(model, train_loader, optimizer, log_interval):\n",
    "    model.train()\n",
    "    for batch_idx,(image, label) in enumerate(train_loader):\n",
    "        image = image.to(DEVICE)\n",
    "        label = label.to(DEVICE)\n",
    "        optimizer.zero_grad()\n",
    "        output = model(image)\n",
    "        loss = criterion(output, label)\n",
    "        loss.backward()\n",
    "        optimizer.step()\n",
    "        \n",
    "        if batch_idx % log_interval == 0:\n",
    "            print(\"Train Epoch: {} [{}/{}({:0f}%)]\\tTrain Loss: {:6f}\".format(\n",
    "                    Epoch, batch_idx*len(image),\n",
    "                    len(train_loader.dataset), 100. * batch_idx/len(train_loader),\n",
    "                    loss.item()))"
   ]
  },
  {
   "cell_type": "code",
   "execution_count": 11,
   "id": "145b9a0c",
   "metadata": {},
   "outputs": [],
   "source": [
    "'''9. 학습되는 과정 속에서 검증 데이터에 대한 모델 성능을 확인하는 함수 정의'''\n",
    "def evaluate(model, test_loader):\n",
    "    model.eval()\n",
    "    test_loss = 0\n",
    "    correct = 0\n",
    "    \n",
    "    with torch.no_grad():\n",
    "        for image, label in test_loader:\n",
    "            image = image.to(DEVICE)\n",
    "            label = label.to(DEVICE)\n",
    "            output = model(image)\n",
    "            test_loss += criterion(output, label).item()\n",
    "            prediction = output.max(1, keepdim = True)[1]\n",
    "            correct += prediction.eq(label.view_as(prediction)).sum().item()\n",
    "    \n",
    "    test_loss /= len(test_loader.dataset)\n",
    "    test_accuracy = 100.*correct/len(test_loader.dataset)\n",
    "    return test_loss, test_accuracy"
   ]
  },
  {
   "cell_type": "code",
   "execution_count": 14,
   "id": "df6645e7",
   "metadata": {
    "scrolled": true
   },
   "outputs": [
    {
     "name": "stdout",
     "output_type": "stream",
     "text": [
      "Train Epoch: 1 [0/60000(0.000000%)]\tTrain Loss: 0.205321\n",
      "Train Epoch: 1 [6400/60000(10.666667%)]\tTrain Loss: 0.365536\n",
      "Train Epoch: 1 [12800/60000(21.333333%)]\tTrain Loss: 0.277539\n",
      "Train Epoch: 1 [19200/60000(32.000000%)]\tTrain Loss: 0.119921\n",
      "Train Epoch: 1 [25600/60000(42.666667%)]\tTrain Loss: 0.200469\n",
      "Train Epoch: 1 [32000/60000(53.333333%)]\tTrain Loss: 0.320745\n",
      "Train Epoch: 1 [38400/60000(64.000000%)]\tTrain Loss: 0.141999\n",
      "Train Epoch: 1 [44800/60000(74.666667%)]\tTrain Loss: 0.420950\n",
      "Train Epoch: 1 [51200/60000(85.333333%)]\tTrain Loss: 0.172867\n",
      "Train Epoch: 1 [57600/60000(96.000000%)]\tTrain Loss: 0.578845\n",
      "\n",
      "[EPOCH: 1], \tTest Loss: 0.0083, \tTest Accuracy: 92.22 %\n",
      "\n",
      "Train Epoch: 2 [0/60000(0.000000%)]\tTrain Loss: 0.199740\n",
      "Train Epoch: 2 [6400/60000(10.666667%)]\tTrain Loss: 0.565423\n",
      "Train Epoch: 2 [12800/60000(21.333333%)]\tTrain Loss: 0.916933\n",
      "Train Epoch: 2 [19200/60000(32.000000%)]\tTrain Loss: 0.243273\n",
      "Train Epoch: 2 [25600/60000(42.666667%)]\tTrain Loss: 0.280475\n",
      "Train Epoch: 2 [32000/60000(53.333333%)]\tTrain Loss: 0.287133\n",
      "Train Epoch: 2 [38400/60000(64.000000%)]\tTrain Loss: 0.345889\n",
      "Train Epoch: 2 [44800/60000(74.666667%)]\tTrain Loss: 0.298956\n",
      "Train Epoch: 2 [51200/60000(85.333333%)]\tTrain Loss: 0.267137\n",
      "Train Epoch: 2 [57600/60000(96.000000%)]\tTrain Loss: 0.287895\n",
      "\n",
      "[EPOCH: 2], \tTest Loss: 0.0083, \tTest Accuracy: 92.40 %\n",
      "\n",
      "Train Epoch: 3 [0/60000(0.000000%)]\tTrain Loss: 0.134723\n",
      "Train Epoch: 3 [6400/60000(10.666667%)]\tTrain Loss: 0.107322\n",
      "Train Epoch: 3 [12800/60000(21.333333%)]\tTrain Loss: 0.154393\n",
      "Train Epoch: 3 [19200/60000(32.000000%)]\tTrain Loss: 0.304734\n",
      "Train Epoch: 3 [25600/60000(42.666667%)]\tTrain Loss: 0.740397\n",
      "Train Epoch: 3 [32000/60000(53.333333%)]\tTrain Loss: 0.112295\n",
      "Train Epoch: 3 [38400/60000(64.000000%)]\tTrain Loss: 0.166528\n",
      "Train Epoch: 3 [44800/60000(74.666667%)]\tTrain Loss: 0.147691\n",
      "Train Epoch: 3 [51200/60000(85.333333%)]\tTrain Loss: 0.170566\n",
      "Train Epoch: 3 [57600/60000(96.000000%)]\tTrain Loss: 0.144598\n",
      "\n",
      "[EPOCH: 3], \tTest Loss: 0.0081, \tTest Accuracy: 92.57 %\n",
      "\n",
      "Train Epoch: 4 [0/60000(0.000000%)]\tTrain Loss: 0.207022\n",
      "Train Epoch: 4 [6400/60000(10.666667%)]\tTrain Loss: 0.420507\n",
      "Train Epoch: 4 [12800/60000(21.333333%)]\tTrain Loss: 0.278757\n",
      "Train Epoch: 4 [19200/60000(32.000000%)]\tTrain Loss: 0.132995\n",
      "Train Epoch: 4 [25600/60000(42.666667%)]\tTrain Loss: 0.353241\n",
      "Train Epoch: 4 [32000/60000(53.333333%)]\tTrain Loss: 0.160832\n",
      "Train Epoch: 4 [38400/60000(64.000000%)]\tTrain Loss: 0.246920\n",
      "Train Epoch: 4 [44800/60000(74.666667%)]\tTrain Loss: 0.156726\n",
      "Train Epoch: 4 [51200/60000(85.333333%)]\tTrain Loss: 0.169060\n",
      "Train Epoch: 4 [57600/60000(96.000000%)]\tTrain Loss: 0.281997\n",
      "\n",
      "[EPOCH: 4], \tTest Loss: 0.0079, \tTest Accuracy: 92.81 %\n",
      "\n",
      "Train Epoch: 5 [0/60000(0.000000%)]\tTrain Loss: 0.126866\n",
      "Train Epoch: 5 [6400/60000(10.666667%)]\tTrain Loss: 0.309553\n",
      "Train Epoch: 5 [12800/60000(21.333333%)]\tTrain Loss: 0.369587\n",
      "Train Epoch: 5 [19200/60000(32.000000%)]\tTrain Loss: 0.259554\n",
      "Train Epoch: 5 [25600/60000(42.666667%)]\tTrain Loss: 0.212999\n",
      "Train Epoch: 5 [32000/60000(53.333333%)]\tTrain Loss: 0.279227\n",
      "Train Epoch: 5 [38400/60000(64.000000%)]\tTrain Loss: 0.140715\n",
      "Train Epoch: 5 [44800/60000(74.666667%)]\tTrain Loss: 0.143611\n",
      "Train Epoch: 5 [51200/60000(85.333333%)]\tTrain Loss: 0.625069\n",
      "Train Epoch: 5 [57600/60000(96.000000%)]\tTrain Loss: 0.084412\n",
      "\n",
      "[EPOCH: 5], \tTest Loss: 0.0078, \tTest Accuracy: 92.90 %\n",
      "\n",
      "Train Epoch: 6 [0/60000(0.000000%)]\tTrain Loss: 0.169433\n",
      "Train Epoch: 6 [6400/60000(10.666667%)]\tTrain Loss: 0.149531\n",
      "Train Epoch: 6 [12800/60000(21.333333%)]\tTrain Loss: 0.071519\n",
      "Train Epoch: 6 [19200/60000(32.000000%)]\tTrain Loss: 0.224254\n",
      "Train Epoch: 6 [25600/60000(42.666667%)]\tTrain Loss: 0.356889\n",
      "Train Epoch: 6 [32000/60000(53.333333%)]\tTrain Loss: 0.250683\n",
      "Train Epoch: 6 [38400/60000(64.000000%)]\tTrain Loss: 0.131741\n",
      "Train Epoch: 6 [44800/60000(74.666667%)]\tTrain Loss: 0.127071\n",
      "Train Epoch: 6 [51200/60000(85.333333%)]\tTrain Loss: 0.133193\n",
      "Train Epoch: 6 [57600/60000(96.000000%)]\tTrain Loss: 0.268456\n",
      "\n",
      "[EPOCH: 6], \tTest Loss: 0.0077, \tTest Accuracy: 92.82 %\n",
      "\n",
      "Train Epoch: 7 [0/60000(0.000000%)]\tTrain Loss: 0.185724\n",
      "Train Epoch: 7 [6400/60000(10.666667%)]\tTrain Loss: 0.167029\n",
      "Train Epoch: 7 [12800/60000(21.333333%)]\tTrain Loss: 0.241374\n",
      "Train Epoch: 7 [19200/60000(32.000000%)]\tTrain Loss: 0.249652\n",
      "Train Epoch: 7 [25600/60000(42.666667%)]\tTrain Loss: 0.066673\n",
      "Train Epoch: 7 [32000/60000(53.333333%)]\tTrain Loss: 0.447799\n",
      "Train Epoch: 7 [38400/60000(64.000000%)]\tTrain Loss: 0.064833\n",
      "Train Epoch: 7 [44800/60000(74.666667%)]\tTrain Loss: 0.234695\n",
      "Train Epoch: 7 [51200/60000(85.333333%)]\tTrain Loss: 0.375517\n",
      "Train Epoch: 7 [57600/60000(96.000000%)]\tTrain Loss: 0.225148\n",
      "\n",
      "[EPOCH: 7], \tTest Loss: 0.0076, \tTest Accuracy: 92.84 %\n",
      "\n",
      "Train Epoch: 8 [0/60000(0.000000%)]\tTrain Loss: 0.129662\n",
      "Train Epoch: 8 [6400/60000(10.666667%)]\tTrain Loss: 0.065777\n",
      "Train Epoch: 8 [12800/60000(21.333333%)]\tTrain Loss: 0.074894\n",
      "Train Epoch: 8 [19200/60000(32.000000%)]\tTrain Loss: 0.264103\n",
      "Train Epoch: 8 [25600/60000(42.666667%)]\tTrain Loss: 0.261615\n",
      "Train Epoch: 8 [32000/60000(53.333333%)]\tTrain Loss: 0.271279\n",
      "Train Epoch: 8 [38400/60000(64.000000%)]\tTrain Loss: 0.067393\n",
      "Train Epoch: 8 [44800/60000(74.666667%)]\tTrain Loss: 0.303836\n",
      "Train Epoch: 8 [51200/60000(85.333333%)]\tTrain Loss: 0.264635\n",
      "Train Epoch: 8 [57600/60000(96.000000%)]\tTrain Loss: 0.147601\n",
      "\n",
      "[EPOCH: 8], \tTest Loss: 0.0074, \tTest Accuracy: 93.24 %\n",
      "\n",
      "Train Epoch: 9 [0/60000(0.000000%)]\tTrain Loss: 0.184448\n",
      "Train Epoch: 9 [6400/60000(10.666667%)]\tTrain Loss: 0.214402\n",
      "Train Epoch: 9 [12800/60000(21.333333%)]\tTrain Loss: 0.265087\n",
      "Train Epoch: 9 [19200/60000(32.000000%)]\tTrain Loss: 0.105444\n",
      "Train Epoch: 9 [25600/60000(42.666667%)]\tTrain Loss: 0.136145\n",
      "Train Epoch: 9 [32000/60000(53.333333%)]\tTrain Loss: 0.109364\n",
      "Train Epoch: 9 [38400/60000(64.000000%)]\tTrain Loss: 0.089260\n",
      "Train Epoch: 9 [44800/60000(74.666667%)]\tTrain Loss: 0.170978\n",
      "Train Epoch: 9 [51200/60000(85.333333%)]\tTrain Loss: 0.052547\n",
      "Train Epoch: 9 [57600/60000(96.000000%)]\tTrain Loss: 0.487459\n",
      "\n",
      "[EPOCH: 9], \tTest Loss: 0.0072, \tTest Accuracy: 93.42 %\n",
      "\n",
      "Train Epoch: 10 [0/60000(0.000000%)]\tTrain Loss: 0.276502\n",
      "Train Epoch: 10 [6400/60000(10.666667%)]\tTrain Loss: 0.111591\n",
      "Train Epoch: 10 [12800/60000(21.333333%)]\tTrain Loss: 0.046695\n",
      "Train Epoch: 10 [19200/60000(32.000000%)]\tTrain Loss: 0.090115\n",
      "Train Epoch: 10 [25600/60000(42.666667%)]\tTrain Loss: 0.148273\n",
      "Train Epoch: 10 [32000/60000(53.333333%)]\tTrain Loss: 0.191820\n",
      "Train Epoch: 10 [38400/60000(64.000000%)]\tTrain Loss: 0.442854\n",
      "Train Epoch: 10 [44800/60000(74.666667%)]\tTrain Loss: 0.162350\n",
      "Train Epoch: 10 [51200/60000(85.333333%)]\tTrain Loss: 0.315322\n",
      "Train Epoch: 10 [57600/60000(96.000000%)]\tTrain Loss: 0.352647\n",
      "\n",
      "[EPOCH: 10], \tTest Loss: 0.0071, \tTest Accuracy: 93.55 %\n",
      "\n"
     ]
    }
   ],
   "source": [
    "'''10. MLP 학습을 실행하면서 Train, Test set의 Loss 및 Test set Accuracy를 확인하기'''\n",
    "for Epoch in range(1, EPOCHS + 1):\n",
    "    train(model, train_loader, optimizer, log_interval = 200)\n",
    "    test_loss, test_accuracy = evaluate(model, test_loader)\n",
    "    print(\"\\n[EPOCH: {}], \\tTest Loss: {:.4f}, \\tTest Accuracy: {:.2f} %\\n\".\n",
    "         format(Epoch, test_loss, test_accuracy))"
   ]
  },
  {
   "cell_type": "code",
   "execution_count": null,
   "id": "8f3599b8",
   "metadata": {},
   "outputs": [],
   "source": []
  }
 ],
 "metadata": {
  "kernelspec": {
   "display_name": "Python 3",
   "language": "python",
   "name": "python3"
  },
  "language_info": {
   "codemirror_mode": {
    "name": "ipython",
    "version": 3
   },
   "file_extension": ".py",
   "mimetype": "text/x-python",
   "name": "python",
   "nbconvert_exporter": "python",
   "pygments_lexer": "ipython3",
   "version": "3.6.13"
  }
 },
 "nbformat": 4,
 "nbformat_minor": 5
}
